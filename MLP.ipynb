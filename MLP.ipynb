{
  "cells": [
    {
      "cell_type": "code",
      "execution_count": 1,
      "id": "3d0c0836",
      "metadata": {
        "id": "3d0c0836"
      },
      "outputs": [],
      "source": [
        "from sklearn.model_selection import train_test_split"
      ]
    },
    {
      "cell_type": "code",
      "execution_count": 2,
      "id": "a872b68b",
      "metadata": {
        "id": "a872b68b"
      },
      "outputs": [],
      "source": [
        "from sklearn.datasets import load_iris"
      ]
    },
    {
      "cell_type": "code",
      "execution_count": 3,
      "id": "d32d69f6",
      "metadata": {
        "id": "d32d69f6"
      },
      "outputs": [],
      "source": [
        "from sklearn.neural_network import MLPClassifier"
      ]
    },
    {
      "cell_type": "code",
      "execution_count": 4,
      "id": "60f4addc",
      "metadata": {
        "id": "60f4addc"
      },
      "outputs": [],
      "source": [
        "dataset=load_iris()"
      ]
    },
    {
      "cell_type": "code",
      "execution_count": 5,
      "id": "0d63b83d",
      "metadata": {
        "id": "0d63b83d"
      },
      "outputs": [],
      "source": [
        "x=dataset.data\n",
        "y=dataset.target"
      ]
    },
    {
      "cell_type": "code",
      "execution_count": 6,
      "id": "niKJEgmbRpko",
      "metadata": {
        "id": "niKJEgmbRpko"
      },
      "outputs": [],
      "source": [
        "x_train,x_test,y_train,y_test=train_test_split(x,y,test_size=0.3)"
      ]
    },
    {
      "cell_type": "code",
      "execution_count": 7,
      "id": "6925c961",
      "metadata": {
        "id": "6925c961"
      },
      "outputs": [],
      "source": [
        "model = MLPClassifier(hidden_layer_sizes=(150,100,50), \n",
        "                      max_iter=200,activation = 'relu',\n",
        "                      solver='adam',random_state=1)"
      ]
    },
    {
      "cell_type": "code",
      "execution_count": 8,
      "id": "81f6f3e5",
      "metadata": {
        "colab": {
          "base_uri": "https://localhost:8080/"
        },
        "id": "81f6f3e5",
        "outputId": "45eb31da-a58e-4933-f857-f75e97a2efa2"
      },
      "outputs": [
        {
          "output_type": "execute_result",
          "data": {
            "text/plain": [
              "MLPClassifier(hidden_layer_sizes=(150, 100, 50), random_state=1)"
            ]
          },
          "metadata": {},
          "execution_count": 8
        }
      ],
      "source": [
        "model.fit(x_train,y_train)"
      ]
    },
    {
      "cell_type": "code",
      "execution_count": 9,
      "id": "uLRLdBvVSLAM",
      "metadata": {
        "id": "uLRLdBvVSLAM"
      },
      "outputs": [],
      "source": [
        "yp=model.predict(x_test)"
      ]
    },
    {
      "cell_type": "code",
      "execution_count": 10,
      "id": "ale_gl2dSjxE",
      "metadata": {
        "id": "ale_gl2dSjxE"
      },
      "outputs": [],
      "source": [
        "from sklearn.metrics import accuracy_score"
      ]
    },
    {
      "cell_type": "code",
      "execution_count": 11,
      "id": "ZIj6AhVvUEhJ",
      "metadata": {
        "colab": {
          "base_uri": "https://localhost:8080/"
        },
        "id": "ZIj6AhVvUEhJ",
        "outputId": "bef51c8b-5365-49fc-c6b2-02ac56cda9fd"
      },
      "outputs": [
        {
          "output_type": "execute_result",
          "data": {
            "text/plain": [
              "0.9777777777777777"
            ]
          },
          "metadata": {},
          "execution_count": 11
        }
      ],
      "source": [
        "accuracy_score(yp,y_test)"
      ]
    },
    {
      "cell_type": "code",
      "execution_count": null,
      "id": "17d4e822",
      "metadata": {
        "id": "17d4e822"
      },
      "outputs": [],
      "source": [
        ""
      ]
    }
  ],
  "metadata": {
    "colab": {
      "name": "MLP.ipynb",
      "provenance": [],
      "collapsed_sections": []
    },
    "kernelspec": {
      "display_name": "Python 3 (ipykernel)",
      "language": "python",
      "name": "python3"
    },
    "language_info": {
      "codemirror_mode": {
        "name": "ipython",
        "version": 3
      },
      "file_extension": ".py",
      "mimetype": "text/x-python",
      "name": "python",
      "nbconvert_exporter": "python",
      "pygments_lexer": "ipython3",
      "version": "3.10.0"
    }
  },
  "nbformat": 4,
  "nbformat_minor": 5
}